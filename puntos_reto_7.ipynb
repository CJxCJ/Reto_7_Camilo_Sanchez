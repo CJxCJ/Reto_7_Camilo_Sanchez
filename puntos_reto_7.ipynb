{
 "cells": [
  {
   "cell_type": "markdown",
   "metadata": {},
   "source": [
    "1. Imprimir un listado con los números del 1 al 100 cada uno con su respectivo cuadrado."
   ]
  },
  {
   "cell_type": "code",
   "execution_count": null,
   "metadata": {},
   "outputs": [],
   "source": [
    "#se define una variable en 1 para empezar la cuenta\n",
    "x = 1\n",
    "\n",
    "#mientras x sea menor o igual a 100 procede a operar la varIable cuadrado \n",
    "while x <= 100:\n",
    "  cuadrado = x**2\n",
    "  print(x, cuadrado,sep =\" , \")\n",
    "#suma uno al valor de x hasta que llegue a 100\n",
    "  x += 1\n"
   ]
  },
  {
   "cell_type": "markdown",
   "metadata": {},
   "source": [
    "2.  Imprimir un listado con los números impares desde 1 hasta 999 y seguidamente otro listado con los números pares desde 2 hasta 1000."
   ]
  },
  {
   "cell_type": "code",
   "execution_count": null,
   "metadata": {},
   "outputs": [],
   "source": [
    "#se declaran variables para cada uno de los listados\n",
    "x = 0\n",
    "y = 0\n",
    "\n",
    "#mientras x sea menor o igual a 1000 \n",
    "while x <= 1000 :\n",
    "  x += 1\n",
    "  #analiza si este numero no es multiplo de 2\n",
    "  if x%2 != 0:\n",
    "    continue\n",
    "  #continua hasta que la condicion del ´while´ acabe\n",
    "  print(x)\n",
    "\n",
    "while y <= 999 :\n",
    "  y += 1\n",
    "  #analiza si este numero es multiplo de 2\n",
    "  if y%2 == 0:\n",
    "    continue\n",
    "  #continua hasta que la condicion del ´while´ acabe\n",
    "  print(y)"
   ]
  },
  {
   "cell_type": "markdown",
   "metadata": {},
   "source": [
    "3.  Imprimir los números pares en forma descendente hasta 2 que son menores o iguales a un número natural n ≥ 2 dado"
   ]
  },
  {
   "cell_type": "code",
   "execution_count": null,
   "metadata": {},
   "outputs": [],
   "source": [
    "#se difine una variable float\n",
    "x = float(input(\"ingrese un numero: \"))\n",
    "\n",
    "#mientras x sea mayor a 2\n",
    "print(x)\n",
    "while x > 2:\n",
    "  x -= 1\n",
    "  #analiza si el modulo sea 0 para determinar si es par\n",
    "  if x%2 != 0:\n",
    "    continue\n",
    "    #continua hasta que la condicion del ´while´ acabe\n",
    "  print(x)"
   ]
  },
  {
   "cell_type": "markdown",
   "metadata": {},
   "source": [
    "4. En 2022 el país A tendrá una población de 25 millones de habitantes y el país B de 18.9 millones. Las tasas de crecimiento anual de la población serán de 2% y 3% respectivamente. Desarrollar un algoritmo para informar en que año la población del país B superará a la de A"
   ]
  },
  {
   "cell_type": "code",
   "execution_count": null,
   "metadata": {},
   "outputs": [],
   "source": [
    "#se definen las variables de la poblacion y el año de inicio\n",
    "A = float(25)\n",
    "B = float(18.5)\n",
    "C = 2022\n",
    "\n",
    "#mientras la poblacion de A sea mayor a la de B\n",
    "while A > B:\n",
    "  #se define las variables del porcentaje de crecimiento \n",
    "  porcentajeA = (1 + 0.02)\n",
    "  porcentajeB = (1 + 0.03)\n",
    "  #se multiplica la poblacion por su respectivo porcentaje\n",
    "  A *= porcentajeA\n",
    "  B *= porcentajeB\n",
    "  C +=1\n",
    "#continua hasta que la condicion del ´while´ acabe\n",
    "print(C)\n"
   ]
  },
  {
   "cell_type": "markdown",
   "metadata": {},
   "source": [
    "5. Imprimir el factorial de un número natural n dado."
   ]
  },
  {
   "cell_type": "code",
   "execution_count": null,
   "metadata": {},
   "outputs": [],
   "source": [
    "#se declara que factorial es 1\n",
    "factorial = 1\n",
    "\n",
    "#se declara la variable para introducir un numero\n",
    "x = int(input(\"Introduzca el número: \"))\n",
    "\n",
    "#se declara i para generar el conteo\n",
    "i = 1\n",
    "\n",
    "#mientras i sea menor que x \n",
    "while (i <= x):\n",
    "    #se realiza la operacion respectiva del factorial\n",
    "    factorial = factorial * i\n",
    "    #y se suma 1 a i\n",
    "    i = i + 1\n",
    "#cuando se completa el while se imprime elresultado\n",
    "print (\"El factorial de \" + str(x) + \" es \" + str(factorial))\n",
    "    "
   ]
  },
  {
   "cell_type": "markdown",
   "metadata": {},
   "source": [
    "6. Implementar un algoritmo que permita adivinar un número dado de 1 a 100, preguntando en cada caso si el número es mayor, menor o igual."
   ]
  },
  {
   "cell_type": "code",
   "execution_count": null,
   "metadata": {},
   "outputs": [],
   "source": [
    "#se importa la funcion ramdom\n",
    "import random\n",
    "\n",
    "#se define la funcion de adivinar\n",
    "def adivina():\n",
    "    print(\"Piensa en un número entre 1 y 100 :D\")\n",
    "    minimo = 1\n",
    "    maximo = 100\n",
    "    \n",
    "    #se declara un ciclo verdadero\n",
    "    while True:\n",
    "        #se declara una variable aleatoria \n",
    "        x = random.randint(minimo, maximo)\n",
    "        \n",
    "        #se le pide al usuario que reponda segundo \n",
    "        print(\"tu número es \" + str(x))\n",
    "        print(\"( responde 'igual' si es correcto, 'menor' si es menor, 'mayor' si es mayor):\")\n",
    "        respuesta = input()\n",
    "        \n",
    "        #dependiendo de la respuesta del usuario hacer algunos de los condicionales\n",
    "        if respuesta == 'igual':\n",
    "            print(\"Adiviné tu número :D\")\n",
    "            break\n",
    "        elif respuesta == 'menor':\n",
    "            maximo = x - 1\n",
    "        elif respuesta == 'mayor':\n",
    "            minimo = x + 1\n",
    "        else:\n",
    "            print(\"Por favor, responde 'igual', 'menor' o 'mayor'.\")\n",
    "\n",
    "#se termina el ciclo\n",
    "adivina()\n"
   ]
  },
  {
   "cell_type": "markdown",
   "metadata": {},
   "source": [
    "7. Implementar un programa que ingrese un número de 2 a 50 y muestre sus divisores"
   ]
  },
  {
   "cell_type": "code",
   "execution_count": null,
   "metadata": {},
   "outputs": [],
   "source": [
    "#se decaclara la variable para ingresar un numero\n",
    "x = int(input(\"Ingresa un número entre 2 y 50: \"))\n",
    "\n",
    "#si x esta entre 2 y 50 permite continuar\n",
    "if 2 <= x <= 50:\n",
    "    print(\"Los divisores de son:\" + str(x))\n",
    "    \n",
    "    divisor = 1\n",
    "    \n",
    "    # mietras la variable divisor sea menor o igual a x \n",
    "    while divisor <= x:\n",
    "        if x % divisor == 0:\n",
    "            print(divisor)\n",
    "        #suma uno a la cuenta\n",
    "        divisor += 1\n",
    "\n",
    "#termina si el numero no cumple las condiciones\n",
    "else:\n",
    "    print(\"El número debe estar en el rango de 2 a 50.\")\n"
   ]
  },
  {
   "cell_type": "markdown",
   "metadata": {},
   "source": [
    "8. Implementar el algoritmo que muestre los números primos del 1 al 100"
   ]
  },
  {
   "cell_type": "code",
   "execution_count": null,
   "metadata": {},
   "outputs": [],
   "source": [
    "#hacemos una funcion para definir cuando es primo un numero\n",
    "def primos(x):\n",
    "  if x <= 1:\n",
    "    return False\n",
    "  elif x <= 3:\n",
    "    return True\n",
    "  elif x % 2 == 0 or x % 3 == 0:\n",
    "    return False\n",
    "  \n",
    "  #define i para hacer el conteo\n",
    "  i = 5\n",
    "\n",
    "  #mientras i multiplicado por si mismo sea menor x\n",
    "  while i * i <= x:\n",
    "        if x % i == 0 or x % (i + 2) == 0:\n",
    "            return False\n",
    "        #se le suma 6 a la cuenta\n",
    "        i += 6\n",
    "  return True\n",
    "\n",
    "#imprima todo el los numeros en la lista que coincidan\n",
    "print(\"Números primos del 1 al 100:\")\n",
    "for n in range(1, 101):\n",
    "    if primos(n):\n",
    "        print(n)"
   ]
  }
 ],
 "metadata": {
  "language_info": {
   "name": "python"
  },
  "orig_nbformat": 4
 },
 "nbformat": 4,
 "nbformat_minor": 2
}
